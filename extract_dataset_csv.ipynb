{
 "cells": [
  {
   "cell_type": "code",
   "execution_count": 2,
   "metadata": {},
   "outputs": [],
   "source": [
    "import pandas as pd"
   ]
  },
  {
   "cell_type": "code",
   "execution_count": 4,
   "metadata": {},
   "outputs": [
    {
     "name": "stdout",
     "output_type": "stream",
     "text": [
      "Number of classes: 82\n",
      "Class names: ['other' 'ambience' 'objects' 'rain' 'water' 'doors' 'weather' 'vehicles'\n",
      " 'boats' 'communications' 'footsteps' 'voices' 'musical' 'crowds' 'bells'\n",
      " 'animals' 'tools' 'glass' 'human' 'movement' 'metal' 'fight' 'vegetation'\n",
      " 'wood' 'plastic' 'trains' 'machines' 'alarms' 'designed' 'swooshes'\n",
      " 'sports' 'guns' 'rubber' 'air' 'fire' 'bullets' 'cloth' 'drawers' 'birds'\n",
      " 'games' 'farts' 'motors' 'food & drink' 'whistles' 'windows'\n",
      " 'destruction' 'mechanical' 'electricity' 'creatures' 'aircraft' 'rocks'\n",
      " 'liquid & mud' 'wings' 'weapons' 'equipment' 'gore' 'paper' 'dirt & sand'\n",
      " 'user interface' 'computers' 'beeps' 'cartoon' 'fireworks' 'scifi'\n",
      " 'clocks' 'natural disaster' 'explosions' 'toys' 'ceramics' 'leather'\n",
      " 'snow' 'rope' 'chains' 'ice' 'chemicals' 'lasers' 'magic' 'geothermal'\n",
      " 'robots' 'horns' 'archived' 'wind']\n"
     ]
    }
   ],
   "source": [
    "data = pd.read_csv('E:/datasets/soundly.csv')\n",
    "print(f\"Number of classes: {len(data['category'].unique())}\")\n",
    "print(f\"Class names: {data['category'].unique()}\")"
   ]
  },
  {
   "cell_type": "code",
   "execution_count": 32,
   "metadata": {},
   "outputs": [
    {
     "data": {
      "text/plain": [
       "'door wood glass door with wooden frame open and close hallway'"
      ]
     },
     "execution_count": 32,
     "metadata": {},
     "output_type": "execute_result"
    }
   ],
   "source": [
    "# Extracting label from file name\n",
    "data['path'].iloc[0].split('/')[-1].split('.')[0].replace(',', '').lower()"
   ]
  },
  {
   "cell_type": "code",
   "execution_count": 5,
   "metadata": {},
   "outputs": [
    {
     "data": {
      "text/plain": [
       "category\n",
       "vehicles      11.891311\n",
       "ambience       9.977780\n",
       "objects        6.668400\n",
       "musical        4.637859\n",
       "designed       4.570490\n",
       "                ...    \n",
       "farts          0.068551\n",
       "leather        0.059096\n",
       "chemicals      0.056732\n",
       "horns          0.056732\n",
       "geothermal     0.020093\n",
       "Name: count, Length: 81, dtype: float64"
      ]
     },
     "execution_count": 5,
     "metadata": {},
     "output_type": "execute_result"
    }
   ],
   "source": [
    "# Exclude samples where a class couldn't be found. These samples can hypothetically belong to any class, and will add noise.\n",
    "filtered_data = data[data['category'] != 'other']\n",
    "filtered_data.reset_index(drop=True)\n",
    "filtered_data['category']\n",
    "\n",
    "# Get counts\n",
    "#counts = Counter(filtered_data['category'])\n",
    "#counts\n",
    "filtered_data['category'].value_counts() / len(filtered_data) * 100"
   ]
  },
  {
   "cell_type": "code",
   "execution_count": 6,
   "metadata": {},
   "outputs": [
    {
     "name": "stdout",
     "output_type": "stream",
     "text": [
      "Dataset Size: 84743\n",
      "Filtered Dataset Size: 84608\n",
      "Training Set Size: 67685\n",
      "Validation Set Size: 3389\n",
      "Test Set Size: 13534\n",
      "\n",
      "\n",
      "Dataset Size Pre Partitioning: 84608\n",
      "Dataset Size Post Partitioning: 84608\n",
      "\n",
      "\n",
      "Train Proportions: category\n",
      "vehicles      11.891852\n",
      "ambience       9.978577\n",
      "objects        6.669129\n",
      "musical        4.637660\n",
      "designed       4.571175\n",
      "                ...    \n",
      "farts          0.067962\n",
      "leather        0.059097\n",
      "chemicals      0.056142\n",
      "horns          0.056142\n",
      "geothermal     0.020684\n",
      "Name: count, Length: 81, dtype: float64\n",
      "\n",
      "\n",
      "Train Proportions: category\n",
      "vehicles       11.861906\n",
      "ambience        9.973443\n",
      "objects         6.668634\n",
      "musical         4.632635\n",
      "designed        4.573621\n",
      "                 ...    \n",
      "farts           0.059014\n",
      "chemicals       0.059014\n",
      "dirt & sand     0.059014\n",
      "horns           0.059014\n",
      "geothermal      0.029507\n",
      "Name: count, Length: 81, dtype: float64\n",
      "\n",
      "\n",
      "Train Proportions: category\n",
      "vehicles      11.895966\n",
      "ambience       9.974878\n",
      "objects        6.664696\n",
      "musical        4.640166\n",
      "designed       4.566278\n",
      "                ...    \n",
      "rope           0.073888\n",
      "leather        0.059110\n",
      "chemicals      0.059110\n",
      "horns          0.059110\n",
      "geothermal     0.014778\n",
      "Name: count, Length: 81, dtype: float64\n",
      "\n",
      "\n",
      "Mean Proportions: category\n",
      "vehicles      11.883241\n",
      "ambience       9.975633\n",
      "objects        6.667486\n",
      "musical        4.636820\n",
      "designed       4.570358\n",
      "                ...    \n",
      "farts          0.066955\n",
      "leather        0.059074\n",
      "chemicals      0.058089\n",
      "horns          0.058089\n",
      "geothermal     0.021656\n",
      "Name: count, Length: 81, dtype: float64\n",
      "Summed Proportions: 100.00000000000001\n"
     ]
    }
   ],
   "source": [
    "# Stratified Train-Val-Test Split after class filtering\n",
    "print(f\"Dataset Size: {len(data)}\")\n",
    "print(f\"Filtered Dataset Size: {len(filtered_data)}\")\n",
    "train_data = filtered_data.groupby('category', group_keys=False).apply(lambda x: x.sample(frac=0.8))\n",
    "val_data = filtered_data.drop(train_data.index)\n",
    "print(f\"Training Set Size: {len(train_data)}\")\n",
    "test_data = val_data.groupby('category', group_keys=False).apply(lambda x: x.sample(frac=0.8))\n",
    "val_data = val_data.drop(test_data.index)\n",
    "print(f\"Validation Set Size: {len(val_data)}\")\n",
    "print(f\"Test Set Size: {len(test_data)}\")\n",
    "\n",
    "# Verifiction\n",
    "train_data = train_data.reset_index(drop=True)\n",
    "val_data = val_data.reset_index(drop=True)\n",
    "test_data = test_data.reset_index(drop=True)\n",
    "print(\"\\n\")\n",
    "print(f\"Dataset Size Pre Partitioning: {len(filtered_data)}\")\n",
    "print(f\"Dataset Size Post Partitioning: {len(train_data) + len(val_data) + len(test_data)}\")\n",
    "train_proportions = train_data['category'].value_counts() / len(train_data) * 100\n",
    "val_proportions = val_data['category'].value_counts() / len(val_data) * 100\n",
    "test_proportions = test_data['category'].value_counts() / len(test_data) * 100\n",
    "print(\"\\n\")\n",
    "print(f\"Train Proportions: {train_proportions}\")\n",
    "print(\"\\n\")\n",
    "print(f\"Train Proportions: {val_proportions}\")\n",
    "print(\"\\n\")\n",
    "print(f\"Train Proportions: {test_proportions}\")\n",
    "print(\"\\n\")\n",
    "print(f\"Mean Proportions: {(train_proportions + val_proportions + test_proportions).sort_values(ascending=False) / 3}\")\n",
    "print(f\"Summed Proportions: {(train_proportions.sum() + val_proportions.sum() + test_proportions.sum()) / 3}\")"
   ]
  },
  {
   "cell_type": "code",
   "execution_count": 190,
   "metadata": {},
   "outputs": [],
   "source": [
    "# Export partitions.\n",
    "train_data.to_csv(\"D:/datasets/soundly/soundly_train_set.csv\", index=False)\n",
    "val_data.to_csv(\"D:/datasets/soundly/soundly_dev_set.csv\", index=False)\n",
    "test_data.to_csv(\"D:/datasets/soundly/soundly_test_set.csv\", index=False)"
   ]
  }
 ],
 "metadata": {
  "kernelspec": {
   "display_name": "audiocraft",
   "language": "python",
   "name": "python3"
  },
  "language_info": {
   "codemirror_mode": {
    "name": "ipython",
    "version": 3
   },
   "file_extension": ".py",
   "mimetype": "text/x-python",
   "name": "python",
   "nbconvert_exporter": "python",
   "pygments_lexer": "ipython3",
   "version": "3.9.18"
  }
 },
 "nbformat": 4,
 "nbformat_minor": 2
}
